{
 "cells": [
  {
   "cell_type": "code",
   "execution_count": 1,
   "metadata": {},
   "outputs": [
    {
     "name": "stdout",
     "output_type": "stream",
     "text": [
      "Loading raw samples now.\n",
      "shard_size: 8192\n",
      "About to start loading CSV from ../ChEMBL/hDAT_pIC50.csv\n",
      "Loading shard 1 of size 8192.\n",
      "Featurizing sample 0\n",
      "Featurizing sample 1000\n",
      "TIMING: featurizing shard 0 took 5.006 s\n",
      "TIMING: dataset construction took 5.720 s\n",
      "Loading dataset from disk.\n"
     ]
    }
   ],
   "source": [
    "\n",
    "\n",
    "from __future__ import division\n",
    "from __future__ import print_function\n",
    "from __future__ import unicode_literals\n",
    "\n",
    "import os\n",
    "\n",
    "import numpy as np\n",
    "import tensorflow as tf\n",
    "import deepchem as dc\n",
    "\n",
    "from deepchem.utils.save import load_from_disk\n",
    "from deepchem.feat.graph_features import ConvMolFeaturizer, WeaveFeaturizer\n",
    "\n",
    "input_data='../ChEMBL/hDAT_pIC50.csv'\n",
    "\n",
    "tasks = ['affinity']\n",
    "featurizer=WeaveFeaturizer()\n",
    "#featurizer=ConvMolFeaturizer()\n",
    "\n",
    "\n",
    "loader = dc.data.CSVLoader(tasks=tasks, smiles_field=\"canonical_smiles\",featurizer=featurizer)\n",
    "dataset=loader.featurize(input_data)\n"
   ]
  },
  {
   "cell_type": "code",
   "execution_count": 2,
   "metadata": {},
   "outputs": [
    {
     "name": "stdout",
     "output_type": "stream",
     "text": [
      "TIMING: dataset construction took 0.877 s\n",
      "Loading dataset from disk.\n",
      "TIMING: dataset construction took 0.353 s\n",
      "Loading dataset from disk.\n",
      "TIMING: dataset construction took 0.341 s\n",
      "Loading dataset from disk.\n"
     ]
    }
   ],
   "source": [
    "import deepchem as dc\n",
    "import tempfile, shutil\n",
    "from deepchem.splits.splitters import RandomSplitter\n",
    "\n",
    "splitter=RandomSplitter()\n",
    "train_data,valid_data,test_data=splitter.train_valid_test_split(dataset)\n",
    "\n"
   ]
  },
  {
   "cell_type": "code",
   "execution_count": 9,
   "metadata": {},
   "outputs": [],
   "source": [
    "from deepchem.models.tensorgraph.models.graph_models import MPNNTensorGraph, WeaveTensorGraph\n",
    "\n",
    "out_path = '../ChEMBL/hDAT/logdir/'\n",
    "\n",
    "C1_filtnum = 64\n",
    "C2_filtnum = 64\n",
    "D_nodenum = 32\n",
    "\n",
    "graph_structure = 'MPNN_Default'\n",
    "\n",
    "model_dir = out_path+graph_structure+'/'\n",
    "\n",
    "np.random.seed(0)\n",
    "random_seed = 0\n",
    "\n",
    "model = MPNNTensorGraph(len(tasks), n_atom_feat=75, n_pair_feat=14, n_hidden=100, batch_size=5, mode='regression',random_seed=random_seed)\n",
    "#model = WeaveTensorGraph(len(tasks), dropout=0.5, batch_size=100, mode='regression')\n",
    "\n",
    "from sklearn.metrics import mean_absolute_error\n",
    "from deepchem.metrics import rms_score\n",
    "\n",
    "metric = dc.metrics.Metric(mean_absolute_error, task_averager=np.mean, mode=\"regression\")\n",
    "   "
   ]
  },
  {
   "cell_type": "code",
   "execution_count": 10,
   "metadata": {},
   "outputs": [
    {
     "name": "stderr",
     "output_type": "stream",
     "text": [
      "/home/nagayasu/anaconda3/envs/deepchem/lib/python3.5/site-packages/tensorflow/python/ops/gradients_impl.py:97: UserWarning: Converting sparse IndexedSlices to a dense Tensor of unknown shape. This may consume a large amount of memory.\n",
      "  \"Converting sparse IndexedSlices to a dense Tensor of unknown shape. \"\n"
     ]
    },
    {
     "name": "stdout",
     "output_type": "stream",
     "text": [
      "Starting epoch 0\n",
      "Starting epoch 1\n",
      "Starting epoch 2\n",
      "Starting epoch 3\n",
      "Starting epoch 4\n"
     ]
    },
    {
     "data": {
      "text/plain": [
       "4.306098146793934"
      ]
     },
     "execution_count": 10,
     "metadata": {},
     "output_type": "execute_result"
    }
   ],
   "source": [
    "\n",
    "model.fit(train_data, nb_epoch=5)\n",
    "\n"
   ]
  },
  {
   "cell_type": "code",
   "execution_count": 11,
   "metadata": {},
   "outputs": [
    {
     "name": "stdout",
     "output_type": "stream",
     "text": [
      "computed_metrics: [0.6449920222815472]\n",
      "computed_metrics: [0.7038960533774206]\n",
      "computed_metrics: [0.7225528562794273]\n"
     ]
    },
    {
     "data": {
      "text/plain": [
       "{'mean-mean_absolute_error': 0.7225528562794273}"
      ]
     },
     "execution_count": 11,
     "metadata": {},
     "output_type": "execute_result"
    }
   ],
   "source": [
    "model.evaluate(train_data, metrics=[metric])\n",
    "model.evaluate(valid_data, metrics=[metric])\n",
    "model.evaluate(test_data, metrics=[metric])"
   ]
  },
  {
   "cell_type": "code",
   "execution_count": null,
   "metadata": {},
   "outputs": [],
   "source": []
  }
 ],
 "metadata": {
  "kernelspec": {
   "display_name": "Python 3",
   "language": "python",
   "name": "python3"
  },
  "language_info": {
   "codemirror_mode": {
    "name": "ipython",
    "version": 3
   },
   "file_extension": ".py",
   "mimetype": "text/x-python",
   "name": "python",
   "nbconvert_exporter": "python",
   "pygments_lexer": "ipython3",
   "version": "3.5.5"
  }
 },
 "nbformat": 4,
 "nbformat_minor": 2
}
